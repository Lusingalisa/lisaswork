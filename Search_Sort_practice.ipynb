{
 "cells": [
  {
   "cell_type": "code",
   "execution_count": 2,
   "metadata": {},
   "outputs": [
    {
     "name": "stdout",
     "output_type": "stream",
     "text": [
      "Element 4 is at index 3\n"
     ]
    }
   ],
   "source": [
    "def linear_search(arr,target):\n",
    "    for i in range(len(arr)):\n",
    "        if arr[i]== target:\n",
    "            return i\n",
    "    return -1\n",
    "\n",
    "numbers=[3,8,6,4,19,2]\n",
    "target=4\n",
    "result = linear_search(numbers,target)\n",
    "if result != -1:\n",
    "    print(f\"Element {target} is at index {result}\")\n",
    "else:\n",
    "    print(f\"Element {target} is not found\")"
   ]
  },
  {
   "cell_type": "code",
   "execution_count": 4,
   "metadata": {},
   "outputs": [
    {
     "name": "stdout",
     "output_type": "stream",
     "text": [
      "Element 28 is found at index 4\n"
     ]
    }
   ],
   "source": [
    "def binary_search(arr,target):\n",
    "    left =0\n",
    "    right=len(arr)-1\n",
    "\n",
    "    while left <= right:\n",
    "        mid =(left+right)//2\n",
    "        if arr[mid] == target:\n",
    "            return mid\n",
    "        elif arr[mid]<target:\n",
    "            left = mid+1\n",
    "        else:\n",
    "            right = mid -1\n",
    "\n",
    "    return -1\n",
    "\n",
    "numbers=[3,5,8,18,28,36]\n",
    "target =28\n",
    "\n",
    "result=binary_search(numbers,target)\n",
    "if result != -1:\n",
    "    print(f\"Element {target} is found at index {result}\")\n",
    "else:\n",
    "    print(f\"Element {target} is not found\")"
   ]
  },
  {
   "cell_type": "code",
   "execution_count": 6,
   "metadata": {},
   "outputs": [
    {
     "name": "stdout",
     "output_type": "stream",
     "text": [
      "Original array: [45, 38, 12, 29, 8, 91, 17]\n",
      "Sorted array:[8, 12, 17, 29, 38, 45, 91]\n"
     ]
    }
   ],
   "source": [
    "def selection_sort(arr):\n",
    "    for i in range(len(arr)):\n",
    "        min_ind=i\n",
    "        for j in range(i+1,len(arr)):\n",
    "            if arr[j]<arr[min_ind]:\n",
    "                min_ind=j\n",
    "        arr[i],arr[min_ind]=arr[min_ind],arr[i]\n",
    "    return arr\n",
    "\n",
    "numbers=[45,38,12,29,8,91,17]\n",
    "print(f\"Original array: {numbers}\")\n",
    "selection_sort(numbers)\n",
    "print(f\"Sorted array:{numbers}\")"
   ]
  },
  {
   "cell_type": "code",
   "execution_count": 8,
   "metadata": {},
   "outputs": [
    {
     "name": "stdout",
     "output_type": "stream",
     "text": [
      "Original array: [54, 42, 25, 10, 28, 19, 32]\n",
      "Sorted array: [10, 19, 25, 28, 32, 42, 54]\n"
     ]
    }
   ],
   "source": [
    "def bubble_sort(arr):\n",
    "    n=len(arr)\n",
    "    for i in range(n):\n",
    "        for j in range(0,n-i-1):\n",
    "            if arr[j]>arr[j+1]:\n",
    "                arr[j],arr[j+1]=arr[j+1],arr[j]\n",
    "    return arr\n",
    "\n",
    "numbers=[54,42,25,10,28,19,32]\n",
    "print(f\"Original array: {numbers}\")\n",
    "bubble_sort(numbers)\n",
    "print(f\"Sorted array: {numbers}\")\n"
   ]
  },
  {
   "cell_type": "code",
   "execution_count": 12,
   "metadata": {},
   "outputs": [
    {
     "name": "stdout",
     "output_type": "stream",
     "text": [
      "Original:[54, 42, 25, 10, 28, 19, 32]\n",
      "Sorted:[10, 19, 25, 28, 32, 42, 54]\n"
     ]
    }
   ],
   "source": [
    "def merge_sort(arr):\n",
    "    if len(arr)>1:\n",
    "        mid=len(arr)//2\n",
    "\n",
    "        left=arr[:mid]\n",
    "        right=arr[mid:]\n",
    "\n",
    "        merge_sort(left)\n",
    "        merge_sort(right)\n",
    "\n",
    "        i=j=k=0\n",
    "        while i<len(left) and j<len(right):\n",
    "            if left[i]<=right[j]:\n",
    "                arr[k]=left[i]\n",
    "                i+=1\n",
    "            else:\n",
    "                arr[k]=right[j]\n",
    "                j+=1\n",
    "            k+=1\n",
    "\n",
    "        while i<len(left):\n",
    "            arr[k]=left[i]\n",
    "            i+=1\n",
    "            k+=1\n",
    "\n",
    "        while j<len(right):\n",
    "            arr[k]=right[j]\n",
    "            j+=1\n",
    "            k+=1\n",
    "        \n",
    "        return arr\n",
    "    \n",
    "numbers=[54,42,25,10,28,19,32]\n",
    "print(f\"Original:{numbers}\")\n",
    "merge_sort(numbers)\n",
    "print(f\"Sorted:{numbers}\")"
   ]
  },
  {
   "cell_type": "code",
   "execution_count": 13,
   "metadata": {},
   "outputs": [
    {
     "name": "stdout",
     "output_type": "stream",
     "text": [
      "[10, 19, 25, 28, 32, 42, 54]\n"
     ]
    }
   ],
   "source": [
    "def insertion_sort(arr):\n",
    "    for i in range(1,len(arr)):\n",
    "        j=i\n",
    "        while arr[j-1]>arr[j] and j>0:\n",
    "            arr[j-1],arr[j]=arr[j],arr[j-1]\n",
    "            j-= 1\n",
    "    return arr\n",
    "\n",
    "numbers=[54,42,25,10,28,19,32]\n",
    "insertion_sort(numbers)\n",
    "print(numbers)\n",
    "\n"
   ]
  },
  {
   "cell_type": "code",
   "execution_count": null,
   "metadata": {},
   "outputs": [],
   "source": [
    "def quick_sort(arr,low,high):\n",
    "    if low<high:\n",
    "        pi=partition(arr,low,high)\n",
    "\n",
    "        quick_sort(arr,low,pi-1)\n",
    "        quick_sort(arr,pi+1,high)\n",
    "\n",
    "def partition(arr,low,high):\n",
    "    pivot=arr[high]\n",
    "    i=low-1\n",
    "\n",
    "    for j in range(low,high):\n",
    "        if arr[j] <= pivot:\n",
    "            i+=1\n",
    "            arr[i],arr[j] =arr[j],arr[i]\n",
    "\n",
    "    arr[i+1],arr[high]=arr[high],arr[i+1]\n",
    "    return i+1"
   ]
  }
 ],
 "metadata": {
  "kernelspec": {
   "display_name": "Python 3",
   "language": "python",
   "name": "python3"
  },
  "language_info": {
   "codemirror_mode": {
    "name": "ipython",
    "version": 3
   },
   "file_extension": ".py",
   "mimetype": "text/x-python",
   "name": "python",
   "nbconvert_exporter": "python",
   "pygments_lexer": "ipython3",
   "version": "3.12.5"
  }
 },
 "nbformat": 4,
 "nbformat_minor": 2
}
