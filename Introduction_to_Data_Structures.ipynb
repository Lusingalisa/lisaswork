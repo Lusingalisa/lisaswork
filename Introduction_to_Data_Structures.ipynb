{
 "cells": [
  {
   "cell_type": "markdown",
   "metadata": {},
   "source": [
    "NAMUGENYI LISA LUSINGA\n",
    "S24B38/010\n",
    "B30300"
   ]
  },
  {
   "cell_type": "markdown",
   "metadata": {},
   "source": [
    "# 1. INTRODUCTION TO DATA STRUCTURES AND ALGORITHMS\n",
    "\n",
    "- Data structures are ways of storing and organizing data so that it can be stored effeciently while algorithms are steps to process that data.\n",
    "\n",
    "- importances of data structures\n",
    "  - it is essential for efficient problem solving, it ensures your proggrams run faster without using a lot of memory.\n",
    "  - it improves coding skills since one is able to write cleaner and more effecient code.\n",
    "  - they help to solve real world problems by enabling one to think logically and solve problems in a specific order.\n",
    "  - enhances decision making skills\n",
    "  - the principles of data structures and algorithms apply across different levels and therefore make it easy for one to adapt to new technologies. "
   ]
  },
  {
   "cell_type": "markdown",
   "metadata": {},
   "source": [
    "# 2. ABSTRACT DATA TYPES AND STRUCTURES\n",
    "- Abstract data types are the logical form of data. They are used to mention what operations are to be performed not how they will be implemented. It provides an implementation-independent view.\n",
    "\n",
    "- ADTs describe the data and the operations to manipulate and change it while data structures provide how the operations are actually implemented.\n",
    "\n",
    "- Examples of ADTs\n",
    "- 1. List ADT -> they are implemented using a linked list incase of any additions/deletions or arrays\n",
    "- 2. Stack ADT -> they are implemented using lists, where the last object in is the first one out.\n",
    "- 3. Queue ADT -> they can be implemented using a linked list with the front as the head and the back as the tail."
   ]
  },
  {
   "cell_type": "markdown",
   "metadata": {},
   "source": [
    "# 3. TYPES OF DATA STRUCTURES\n",
    "- Arrays -> An array is a linear data structure where all elements are arranged sequentially.\n",
    "\n",
    "- Linked lists are a data structure that store data in the form of a chain. It is a collection fof nodes that are linked to each other. Is a linear data structure where elements(nodes) are stored dynamically and connected using pointers.\n",
    "\n",
    "- Stacks -> this is a linear data structure that follows the last in first out principle. is a piling method that uses the last in first out principle.\n",
    "\n",
    "- Queues -> this is a linear structure that stores items the first in first  out principle"
   ]
  },
  {
   "cell_type": "code",
   "execution_count": 2,
   "metadata": {},
   "outputs": [
    {
     "name": "stdout",
     "output_type": "stream",
     "text": [
      "[3, 4, 5, 6, 7, 8]\n",
      "linked_list\n",
      "1 -> 3 -> 6 -> none\n",
      "stack [1, 2, 3]\n",
      "1\n",
      "queue:  deque([5, 6, 7])\n",
      "queue is now a list [5, 6, 7]\n",
      "removed_element 5\n",
      "front element 6\n"
     ]
    }
   ],
   "source": [
    "# 3. TYPES OF DATA STRUCTURES\n",
    "# Arrays -> An array is a linear data structure where all elements are arranged sequentially\n",
    "array1=[3,4,5,6,7,8]\n",
    "print(array1)\n",
    "\n",
    "#Linked lists are a data structure that store data in the form of a chain. It is a collection fof nodes that are linked to each other.\n",
    "linked_list={\n",
    "    0:[1,1],\n",
    "    1:[3,2],\n",
    "    2:[6,-1]\n",
    "}\n",
    "def display_linked_list():\n",
    "    index=0\n",
    "    while index!=-1:  #while the index is not the last\n",
    "        value,next_index=linked_list[index]   #means get the node value and the next index \n",
    "        print(value,end=\" -> \")  #print the value\n",
    "        index=next_index     #go to the next one and then repeat\n",
    "    print(\"none\")  #so that the loop can end and doesn't continue, and it shows none when it reaches the end\n",
    "print(\"linked_list\")\n",
    "display_linked_list()\n",
    "\n",
    "\n",
    "#Stacks -> this is a linear data structure that follows the last in first out principle\n",
    "stack=[]\n",
    "stack.append(1) \n",
    "stack.append(2)\n",
    "stack.append(3)\n",
    "\n",
    "print(\"stack\",stack)\n",
    "print(stack[0])\n",
    "\n",
    "#Queues -> this is a linear structure that stores items the first in first  out principle\n",
    "from collections import deque\n",
    "\n",
    "queue=deque()\n",
    "\n",
    "#addind data to a queue\n",
    "queue.append(5)\n",
    "queue.append(6)\n",
    "queue.append(7)\n",
    "\n",
    "print(\"queue: \",queue)\n",
    "\n",
    "#to get rid of the deque, we convert it to a list\n",
    "print(\"queue is now a list\", list(queue))\n",
    "\n",
    "#since we work with the first element that came in, and queues use first in first out, we pop from the most left, i.e the very first object\n",
    "if queue:\n",
    "    removed_element=queue.popleft()\n",
    "    print(\"removed_element\",removed_element)\n",
    "\n",
    "#how to view the top most element\n",
    "if queue:\n",
    "    print(\"front element\",queue[0])\n",
    "\n",
    "\n",
    "\n"
   ]
  },
  {
   "cell_type": "markdown",
   "metadata": {},
   "source": [
    "# 4. OPERATIONS ON DATA STRUCTURES\n",
    "\n",
    "- Traversing: This is going through each element of a data structure to access and manipulate the data\n",
    "\n",
    "\n",
    "- Searching: This is the process of finding the required element from a collection of data such as a list\n",
    "\n",
    "\n",
    "- Insertion: This is the addition of a new element to a data structure. This adjusts its organization to accomodate the new entry. Insertion can happen at any position in an array\n",
    "\n",
    "\n",
    "- Deletion : This is the process of deleting an element from a specified location. This means that the element is no longer accessible within that data structure.\n",
    "\n",
    "\n",
    "- Updating : This is the process of modifying or changing the value of an existing element within a data structure.\n",
    "\n",
    "\n",
    "- Sorting: This is the arrangement of elements in a data structure in a specified order. the order can be ascending or descending and makes searching for elements easier and less hectic.\n",
    "\n",
    "\n",
    "- Merging : This is the process of combinig two or more sorted datasets while maintaining the sorted order."
   ]
  },
  {
   "cell_type": "markdown",
   "metadata": {},
   "source": [
    "# 5. ALGORITHMS\n",
    "- An algorithm is a set of commanda that must be followed for a computer to perform calculations or other problem-solving operations. \n",
    "- Algorithms enable one to break down real world problems into small steps to analyze it quickly.\n",
    "\n",
    "\n",
    "\n",
    "- Summation of numbers in an array\n",
    "- START\n",
    "- 1. array1=[1,2,3,4,5]\n",
    "- 2. #create a variable for the calculating the sum, sum =0\n",
    "- 3. loop through the array to calculate the sum\n",
    "- 4. for i in the range 0 to the number of items in the array (0,len(array1))\n",
    "- 5. sum=sum+arr[i]\n",
    "- 6. print The sum of all the elements in the array, +str(sum)\n",
    "- END\n",
    "\n",
    "- Matrix multiplication algorithm\n",
    "- START\n",
    "- 1. initialize the variables for the matrices and result\n",
    "   - matrix_a=[[1,2],[3,4]]\n",
    "   - matrix_b=[[5,6],[7,8]]\n",
    "   - result = [[0,0],[0,0]]\n",
    "- 2. for i in range 0 to 1\n",
    "     - for i in range 0 to 1\n",
    "       - result of i and j multiply the item at index 0 for matrix a and b plus item at index 1 for matrix a and b\n",
    "- 3. for each row in the result \n",
    "    - print row\n",
    "- END\n",
    "\n",
    "\n",
    "# Brute Force Algorithm\n",
    "- Is an algorithm that systematically explores every option until a problem's answer is discovered. This algorithm is effecient for small-scale issues that involve an in-depth investigation.\n",
    "\n",
    "# Recursive Algorithm\n",
    "- This is an algorithm that involves breaking down an object into smaller sub problems until one gets to a smaller problem that can be solved trivially. The program calls itself to repeat the same steps until the problem is solved.\n",
    "\n",
    "# Divide and Conquer Algorithm\n",
    "- This is a technique used to solve problems by dividing them into subproblems, solving them individually and then merging them to find the solution to the original problem. Each subproblem is independent of others that is, solving one problem does not depend on the solution of another.\n",
    "\n",
    "# Dynamic Programming Algorithm\n",
    "- Is an algorithm in which the problem is first broken down into sub-problems, the results are saved and reused and then the sub-problems are optimized to find the overall solution. This algorithmstores the solutions so that they can be reused to improve effeciency when solving larger problems.\n",
    "\n",
    "# Greedy Algorithm\n",
    "- Is an algorithm that picks the path that seems optimal at each step to find a solution. It finds a solution to problems in the shortest time possible.\n",
    "\n",
    "# Backtracking Algorithm\n",
    "- This is an algorithm that involves finding a solution incrementally by trying different options and undoing them if they lead to a dead end. This algorithm builds a solution by exploring all possible paths created by the choices in the problem.\n"
   ]
  },
  {
   "cell_type": "markdown",
   "metadata": {},
   "source": [
    "# 6. ALGORITHM REPRESENTATION\n",
    "- Pseudocode is a detailed yet readable explanation of what a computer program or algorithm should do.\n",
    "  - It provides a description of the steps involved in an algorithm using the human natural language English.\n",
    "- Flowchart is a visual representation of an algorithm using arrows and symbols to illustrate the sequence of steps involved in solving a problem. "
   ]
  },
  {
   "cell_type": "markdown",
   "metadata": {},
   "source": [
    "# 7. GUIDELINES FOR FLOWCHARTS\n",
    "- 1. they should have a clearly defined start and end.\n",
    "- 2. each step should be represented with the right symbol\n",
    "- 3. the arrows should move from one symbol to another in their right sequence of execution.\n",
    "- 4. the flowchart should be drawn well such that there are no overlapping lines. \n",
    "\n",
    "- STANDARD SYMBOLS FOR A FLOWCHART\n",
    "  - Oval : start/end\n",
    "  - Rectangle : Process\n",
    "  - Diamond : Decision\n",
    "  - Parallelogram : input/output\n",
    "  - Arrow : Connector between steps"
   ]
  },
  {
   "cell_type": "markdown",
   "metadata": {},
   "source": [
    "# 8. CONCLUSION\n",
    "- Data structures and algorithms are essential in many ways like helping us to think more critically about problems. This enables us to systematically store data and access it effieciently but also to have an organised sequence of steps to solve real world problems. It also enables us to have optimised code performance since we are able to write cleaner and more effecient code."
   ]
  }
 ],
 "metadata": {
  "kernelspec": {
   "display_name": "Python 3",
   "language": "python",
   "name": "python3"
  },
  "language_info": {
   "codemirror_mode": {
    "name": "ipython",
    "version": 3
   },
   "file_extension": ".py",
   "mimetype": "text/x-python",
   "name": "python",
   "nbconvert_exporter": "python",
   "pygments_lexer": "ipython3",
   "version": "3.12.5"
  }
 },
 "nbformat": 4,
 "nbformat_minor": 2
}
